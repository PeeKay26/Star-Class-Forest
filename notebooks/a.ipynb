{
 "cells": [
  {
   "cell_type": "code",
   "execution_count": 2,
   "metadata": {},
   "outputs": [],
   "source": [
    "\n",
    "def halvesAreAlike(s):\n",
    "    \"\"\"\n",
    "    :type s: str\n",
    "    :rtype: bool\n",
    "    \"\"\"\n",
    "    n = len(s)//2\n",
    "    a, b = s[:n], s[n:]\n",
    "    x,y = 0, 0\n",
    "    hashset = set([ord('a'),ord('e'),ord('i'),ord('o'),ord('u')])\n",
    "    for i in range(n):\n",
    "        if ord(a[i].lower()) in hashset:\n",
    "            x += 1\n",
    "        if ord(b[i].lower()) in hashset:\n",
    "            y += 1\n",
    "    return x == y\n"
   ]
  },
  {
   "cell_type": "code",
   "execution_count": 3,
   "metadata": {},
   "outputs": [
    {
     "name": "stdout",
     "output_type": "stream",
     "text": [
      "2.18 μs ± 154 ns per loop (mean ± std. dev. of 7 runs, 100,000 loops each)\n"
     ]
    }
   ],
   "source": [
    "%timeit halvesAreAlike(\"textbook\")"
   ]
  },
  {
   "cell_type": "code",
   "execution_count": 5,
   "metadata": {},
   "outputs": [],
   "source": [
    "def h(s):\n",
    "    \"\"\"\n",
    "    :type s: str\n",
    "    :rtype: bool\n",
    "    \"\"\"\n",
    "    n = len(s)//2\n",
    "    a, b = s[:n], s[n:]\n",
    "    x,y = 0, 0\n",
    "    hashset = 'aeiou'\n",
    "    for i in range(n):\n",
    "        if a[i].lower() in hashset:\n",
    "            x += 1\n",
    "        if b[i].lower() in hashset:\n",
    "            y += 1\n",
    "    return x == y"
   ]
  },
  {
   "cell_type": "code",
   "execution_count": 6,
   "metadata": {},
   "outputs": [
    {
     "name": "stdout",
     "output_type": "stream",
     "text": [
      "1.3 μs ± 68.2 ns per loop (mean ± std. dev. of 7 runs, 1,000,000 loops each)\n"
     ]
    }
   ],
   "source": [
    "%timeit h(\"textbook\")"
   ]
  }
 ],
 "metadata": {
  "kernelspec": {
   "display_name": "Python 3",
   "language": "python",
   "name": "python3"
  },
  "language_info": {
   "codemirror_mode": {
    "name": "ipython",
    "version": 3
   },
   "file_extension": ".py",
   "mimetype": "text/x-python",
   "name": "python",
   "nbconvert_exporter": "python",
   "pygments_lexer": "ipython3",
   "version": "3.11.5"
  }
 },
 "nbformat": 4,
 "nbformat_minor": 2
}
