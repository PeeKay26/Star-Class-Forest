{
 "cells": [
  {
   "cell_type": "markdown",
   "metadata": {},
   "source": [
    "# Automated Star Classification with Random Forest\n",
    "\n",
    "### Data Features\n",
    "- **_RAJ2000**: Right ascension (deg)\n",
    "- **_DEC2000**: Declination (deg)\n",
    "- **HIP**: Identifier\n",
    "- **RAhms**: Right ascension (hr, min, sec)\n",
    "- **DEdms**: Declination (deg, min, sec)\n",
    "- **Vmag**: Apparent magnitude aka. m (magnitude)\n",
    "- **Plx**: Parallax (marcsec), distance to star = 1/parallax\n",
    "- **e_Plx**: Parallax error\n",
    "- **B-V**: the color index of a star, calculated as the difference between its apparent magnitudes in the B (blue) and V (visible) photometric bands. It provides insight into the star's temperature and spectral characteristics:\n",
    "    - Blue stars (hotter) have smaller B-V values (negative or near zero).\n",
    "    - Reddish stars (cooler) have larger B-V values (positive).\n",
    "- **Notes**\n",
    "- **SpType**: The spectral type classifies stars based on their surface temperature and luminosity, represented by a letter and optional Roman numeral:\n",
    "    - **I, II, III**: Giants - Large and luminous stars at various stages of evolution.\n",
    "    - **IV, V, VI**: Dwarfs - Main sequence stars (V), subgiants (IV), and subdwarfs (VI).\n",
    "    - **VII**: White dwarfs - Small, dense stars near the end of their life cycle.\n",
    "    - *None*: Special stars that do not fit the giant/dwarf classification scheme neatly.\n",
    "\n",
    "*(Source: The Hipparcos and Tycho Catalogues)*"
   ]
  },
  {
   "cell_type": "code",
   "execution_count": 7,
   "metadata": {},
   "outputs": [
    {
     "name": "stdout",
     "output_type": "stream",
     "text": [
      "     _RAJ2000   _DEJ2000  HIP        RAhms        DEdms   Vmag    Plx  e_Plx  \\\n",
      "0    0.000899   1.089009    1  00 00 00.22  +01 05 20.4   9.10   3.54   1.39   \n",
      "1    0.004265 -19.498840    2  00 00 00.91  -19 29 55.8   9.27  21.90   3.10   \n",
      "2    0.005024  38.859279    3  00 00 01.20  +38 51 33.4   6.61   2.81   0.63   \n",
      "3    0.008629 -51.893546    4  00 00 02.01  -51 53 36.8   8.06   7.75   0.97   \n",
      "4    0.009973 -40.591202    5  00 00 02.39  -40 35 28.4   8.55   2.87   1.11   \n",
      "..        ...        ...  ...          ...          ...    ...    ...    ...   \n",
      "195  0.627006  51.829976  196  00 02 30.48  +51 49 47.9   8.95   0.98   1.18   \n",
      "196  0.632304  42.147779  197  00 02 31.76  +42 08 52.1   8.97   1.62   1.16   \n",
      "197  0.632749  15.335173  198  00 02 31.85  +15 20 06.7   8.94   5.12   1.11   \n",
      "198  0.635004  16.256565  199  00 02 32.41  +16 15 23.6   7.24   4.07   0.88   \n",
      "199  0.635489 -33.992633  200  00 02 32.51  -33 59 33.6  10.32   3.17   1.67   \n",
      "\n",
      "        B-V Notes SpType  \n",
      "0     0.482           F5  \n",
      "1     0.999          K3V  \n",
      "2    -0.019           B9  \n",
      "3     0.370          F0V  \n",
      "4     0.902        G8III  \n",
      "..      ...   ...    ...  \n",
      "195   1.677           K5  \n",
      "196   0.952           K0  \n",
      "197   0.276           A0  \n",
      "198   0.074           A0  \n",
      "199   0.323           F2  \n",
      "\n",
      "[200 rows x 11 columns]\n"
     ]
    }
   ],
   "source": [
    "import pandas as pd\n",
    "\n",
    "data = pd.read_csv('data_only.tsv', delimiter='\\t')"
   ]
  },
  {
   "cell_type": "markdown",
   "metadata": {},
   "source": []
  },
  {
   "cell_type": "code",
   "execution_count": null,
   "metadata": {},
   "outputs": [],
   "source": []
  }
 ],
 "metadata": {
  "kernelspec": {
   "display_name": "Python 3",
   "language": "python",
   "name": "python3"
  },
  "language_info": {
   "codemirror_mode": {
    "name": "ipython",
    "version": 3
   },
   "file_extension": ".py",
   "mimetype": "text/x-python",
   "name": "python",
   "nbconvert_exporter": "python",
   "pygments_lexer": "ipython3",
   "version": "3.11.5"
  }
 },
 "nbformat": 4,
 "nbformat_minor": 2
}
