{
 "cells": [
  {
   "cell_type": "code",
   "execution_count": 1,
   "metadata": {},
   "outputs": [
    {
     "name": "stdout",
     "output_type": "stream",
     "text": [
      "Collecting PyAstronomy\n",
      "  Downloading PyAstronomy-0.21.0.tar.gz (775 kB)\n",
      "     ---------------------------------------- 0.0/775.0 kB ? eta -:--:--\n",
      "     ------ ------------------------------- 122.9/775.0 kB 2.4 MB/s eta 0:00:01\n",
      "     ----------------------------- -------- 593.9/775.0 kB 6.2 MB/s eta 0:00:01\n",
      "     -------------------------------------- 775.0/775.0 kB 7.0 MB/s eta 0:00:00\n",
      "  Installing build dependencies: started\n",
      "  Installing build dependencies: finished with status 'done'\n",
      "  Getting requirements to build wheel: started\n",
      "  Getting requirements to build wheel: finished with status 'done'\n",
      "  Preparing metadata (pyproject.toml): started\n",
      "  Preparing metadata (pyproject.toml): finished with status 'done'\n",
      "Requirement already satisfied: numpy<2 in c:\\users\\parth\\appdata\\local\\programs\\python\\python311\\lib\\site-packages (from PyAstronomy) (1.25.2)\n",
      "Requirement already satisfied: six in c:\\users\\parth\\appdata\\local\\programs\\python\\python311\\lib\\site-packages (from PyAstronomy) (1.16.0)\n",
      "Requirement already satisfied: scipy in c:\\users\\parth\\appdata\\local\\programs\\python\\python311\\lib\\site-packages (from PyAstronomy) (1.12.0)\n",
      "Collecting quantities (from PyAstronomy)\n",
      "  Downloading quantities-0.15.0-py3-none-any.whl.metadata (8.4 kB)\n",
      "Collecting bidict (from PyAstronomy)\n",
      "  Downloading bidict-0.23.1-py3-none-any.whl.metadata (8.7 kB)\n",
      "Downloading bidict-0.23.1-py3-none-any.whl (32 kB)\n",
      "Downloading quantities-0.15.0-py3-none-any.whl (101 kB)\n",
      "   ---------------------------------------- 0.0/101.2 kB ? eta -:--:--\n",
      "   ---------------------------------------- 101.2/101.2 kB 6.1 MB/s eta 0:00:00\n",
      "Building wheels for collected packages: PyAstronomy\n",
      "  Building wheel for PyAstronomy (pyproject.toml): started\n",
      "  Building wheel for PyAstronomy (pyproject.toml): finished with status 'done'\n",
      "  Created wheel for PyAstronomy: filename=PyAstronomy-0.21.0-py3-none-any.whl size=551647 sha256=5511f0a9ccfcee55efde72b6ae4eb952804b7754972e015be7a0e7360b61332f\n",
      "  Stored in directory: c:\\users\\parth\\appdata\\local\\pip\\cache\\wheels\\00\\00\\59\\3e2a3efb262f22ef501be2e1a71b24fc5abb9428be6fca76bb\n",
      "Successfully built PyAstronomy\n",
      "Installing collected packages: quantities, bidict, PyAstronomy\n",
      "Successfully installed PyAstronomy-0.21.0 bidict-0.23.1 quantities-0.15.0\n",
      "Note: you may need to restart the kernel to use updated packages.\n"
     ]
    }
   ],
   "source": [
    "%pip install PyAstronomy"
   ]
  },
  {
   "cell_type": "code",
   "execution_count": 4,
   "metadata": {},
   "outputs": [],
   "source": [
    "from PyAstronomy import pyasl\n",
    "import matplotlib.pyplot as plt\n",
    "import pandas as pd\n",
    "\n",
    "# Get the table data from MMSCETSTable\n",
    "td = pyasl.MMSCETSTable().getTable()\n",
    "\n",
    "# td.write(\"mapping.csv\")\n"
   ]
  },
  {
   "cell_type": "code",
   "execution_count": 53,
   "metadata": {},
   "outputs": [
    {
     "name": "stdout",
     "output_type": "stream",
     "text": [
      "['A0', 'A0p', 'A1III (225180)', 'A1V (95418)', 'A2II (39866)', 'A4V (136729)', 'A4V (97603)', 'A5II (34578)', 'A9V (154660)', 'B5 (338529)', 'B8III (220575)', 'F0II (25291)', 'F0III (89025)', 'F0IV (81937)', 'F2', 'F2III (89254)', 'F2V (33256)', 'F3/F5V (30743)', 'F5', 'F6II (61295)', 'F8Ibvar (45412)', 'F8V (G_243-63)', 'F9', 'G0', 'G2', 'G4V (32923)', 'G8V (101501)', 'K0IIIa (57669)', 'K0V (10780)', 'K1', 'K3', 'K3III (101673)', 'K3V (32147)', 'K5', 'K5 (G_19-24)', 'K5Ve (118100)', 'K7', 'M0', 'M0V', 'M1', 'M1 (204445)', 'M2', 'M3', 'M4', 'M4.5:III (123657)', 'M5', 'M5III (221615)', 'M6', 'M6III (148783)', 'M7', 'O8/O9 (167771)', 'O8e (188001)', 'O9.5Iae (30614)', 'sd:F0 (G_84-29)']\n"
     ]
    }
   ],
   "source": [
    "mapping_df = pd.read_csv('mapping.csv')\n",
    "data_df = pd.read_csv('stars.csv')\n",
    "\n",
    "subclasses = data_df['subClass'].unique()\n",
    "sorted_subclasses = sorted(list(subclasses))\n",
    "print(sorted_subclasses)"
   ]
  },
  {
   "cell_type": "code",
   "execution_count": 54,
   "metadata": {},
   "outputs": [
    {
     "name": "stdout",
     "output_type": "stream",
     "text": [
      "    subClass  temperature\n",
      "0      B8III     220575.0\n",
      "1       F0IV      81937.0\n",
      "2     F3/F5V      30743.0\n",
      "3      A1III     225180.0\n",
      "4     F3/F5V      30743.0\n",
      "..       ...          ...\n",
      "192    O8/O9     167771.0\n",
      "193      O8e     188001.0\n",
      "194  O9.5Iae      30614.0\n",
      "195  O9.5Iae      30614.0\n",
      "196    O8/O9     167771.0\n",
      "\n",
      "[197 rows x 2 columns]\n"
     ]
    },
    {
     "name": "stderr",
     "output_type": "stream",
     "text": [
      "C:\\Users\\parth\\AppData\\Local\\Temp\\ipykernel_28140\\949535868.py:13: FutureWarning: Returning a DataFrame from Series.apply when the supplied function returns a Series is deprecated and will be removed in a future version.\n",
      "  data_df[['subClass', 'temperature']] = data_df['subClass'].apply(lambda x: pd.Series(extract_temperature(x)))\n"
     ]
    }
   ],
   "source": [
    "import re\n",
    "\n",
    "def extract_temperature(class_str):\n",
    "    match = re.search(r'\\((\\d+)\\)', class_str)\n",
    "    if match:\n",
    "        temperature = int(match.group(1))\n",
    "        # Remove the \" (number)\" part from class string\n",
    "        class_str = re.sub(r'\\s*\\(\\d+\\)', '', class_str)\n",
    "        return class_str, temperature\n",
    "    return class_str, None\n",
    "\n",
    "# Apply the function to create the temperature column and clean class column\n",
    "data_df[['subClass', 'temperature']] = data_df['subClass'].apply(lambda x: pd.Series(extract_temperature(x)))\n",
    "\n",
    "print(data_df[['subClass','temperature']])\n",
    "data_df.to_csv('with_temperature.csv')"
   ]
  },
  {
   "cell_type": "code",
   "execution_count": 56,
   "metadata": {},
   "outputs": [
    {
     "name": "stdout",
     "output_type": "stream",
     "text": [
      "['A0', 'A0p', 'A1III', 'A1V', 'A2II', 'A4V', 'A5II', 'A9V', 'B5', 'B8III', 'F0II', 'F0III', 'F0IV', 'F2', 'F2III', 'F2V', 'F3/F5V', 'F5', 'F6II', 'F8Ibvar', 'F8V (G_243-63)', 'F9', 'G0', 'G2', 'G4V', 'G8V', 'K0IIIa', 'K0V', 'K1', 'K3', 'K3III', 'K3V', 'K5', 'K5 (G_19-24)', 'K5Ve', 'K7', 'M0', 'M0V', 'M1', 'M2', 'M3', 'M4', 'M4.5:III', 'M5', 'M5III', 'M6', 'M6III', 'M7', 'O8/O9', 'O8e', 'O9.5Iae', 'sd:F0 (G_84-29)']\n"
     ]
    }
   ],
   "source": [
    "print(sorted(data_df['subClass'].unique()))\n",
    "unique_subclasses = ['A0V', 'A1V', 'A2V', 'A4V', 'A5V', 'A9V', 'B5V', 'B8V', 'F0V', 'F2V', 'F3V', 'F5V', 'F6V', 'F8V', 'F9V','G0V', 'G2V', 'G4V', 'G8V','K0V', 'K1V', 'K3V', 'K5', 'K7', 'M0', 'M0V', 'M1', 'M1 (204445)', 'M2V', 'M3V', 'M4V', 'M4.5:III (123657)', 'M5', 'M5III (221615)', 'M6', 'M6III (148783)', 'M7', 'O8/O9 (167771)', 'O8e (188001)', 'O9.5Iae (30614)', 'sd:F0 (G_84-29)']\n",
    "# get rows without temperature\n"
   ]
  }
 ],
 "metadata": {
  "kernelspec": {
   "display_name": "Python 3",
   "language": "python",
   "name": "python3"
  },
  "language_info": {
   "codemirror_mode": {
    "name": "ipython",
    "version": 3
   },
   "file_extension": ".py",
   "mimetype": "text/x-python",
   "name": "python",
   "nbconvert_exporter": "python",
   "pygments_lexer": "ipython3",
   "version": "3.11.5"
  }
 },
 "nbformat": 4,
 "nbformat_minor": 2
}
